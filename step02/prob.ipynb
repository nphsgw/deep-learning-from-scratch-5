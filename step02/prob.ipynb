{
 "cells": [
  {
   "cell_type": "code",
   "execution_count": 1,
   "metadata": {},
   "outputs": [
    {
     "name": "stdout",
     "output_type": "stream",
     "text": [
      "p(x <= 160): 0.004271406830855\n",
      "p(x > 180): 0.06541774339950823\n"
     ]
    }
   ],
   "source": [
    "import os\n",
    "import numpy as np\n",
    "from scipy.stats import norm\n",
    "\n",
    "\n",
    "path = \"./height.txt\"\n",
    "xs = np.loadtxt(path)\n",
    "mu = np.mean(xs)\n",
    "sigma = np.std(xs)\n",
    "\n",
    "# 平均mu標準偏差sigmaの正規分布で160以下となる確率\n",
    "p1 = norm.cdf(160, mu, sigma)\n",
    "print('p(x <= 160):', p1)\n",
    "\n",
    "# 180より大きい確率は全体の確率1から180以下の確率を引くことで求めることがでできる\n",
    "p2 = norm.cdf(180, mu, sigma)\n",
    "print('p(x > 180):', 1-p2)"
   ]
  },
  {
   "cell_type": "code",
   "execution_count": null,
   "metadata": {},
   "outputs": [],
   "source": []
  }
 ],
 "metadata": {
  "kernelspec": {
   "display_name": "base",
   "language": "python",
   "name": "python3"
  },
  "language_info": {
   "codemirror_mode": {
    "name": "ipython",
    "version": 3
   },
   "file_extension": ".py",
   "mimetype": "text/x-python",
   "name": "python",
   "nbconvert_exporter": "python",
   "pygments_lexer": "ipython3",
   "version": "3.10.11"
  }
 },
 "nbformat": 4,
 "nbformat_minor": 2
}
